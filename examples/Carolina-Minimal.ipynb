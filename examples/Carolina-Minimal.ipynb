{
 "cells": [
  {
   "cell_type": "markdown",
   "metadata": {},
   "source": [
    "# Intro to Carolina Notebook\n",
    "\n",
    "This notebook ***requires Carolina kernel to run***. If not selected by default, in the top menu go to _Kernel_, then _Change Kernel_ and choose _Carolina_.\n",
    "\n",
    "\n"
   ]
  },
  {
   "cell_type": "markdown",
   "metadata": {},
   "source": [
    "## Basic Examples"
   ]
  },
  {
   "cell_type": "markdown",
   "metadata": {},
   "source": [
    "Run some `DATA` steps, use `MACRO` variables. Execution produces NOTES, WARNINGS, and ERRORS"
   ]
  },
  {
   "cell_type": "code",
   "execution_count": null,
   "metadata": {},
   "outputs": [],
   "source": [
    "\n",
    "%let a=abc;\n",
    "\n",
    "\n",
    "data _null_;\n",
    "a = \"NOTE: Macro a=&a\";\n",
    "put a;\n",
    "run;\n",
    "\n",
    "/* Generate a WARNING: macro b was not resolved */\n",
    "data temp;\n",
    "b = \"&b\";\n",
    "x = 1;\n",
    "put b;\n",
    "put _n_;\n",
    "run;\n",
    "\n",
    "proc print;\n",
    "\n",
    "* Unomment the next line to see how an error looks like';\n",
    "*proc print /;\n"
   ]
  },
  {
   "cell_type": "markdown",
   "metadata": {},
   "source": [
    "MACROs, LIBREFs, FILEREFs retained by the notebook between the cell executions. The next cell prints last data set and shows the macro variable set above\n"
   ]
  },
  {
   "cell_type": "code",
   "execution_count": null,
   "metadata": {},
   "outputs": [],
   "source": [
    "proc print;\n",
    "\n",
    "%put Value of a is &a;\n"
   ]
  },
  {
   "cell_type": "markdown",
   "metadata": {},
   "source": [
    "# Local File System"
   ]
  },
  {
   "cell_type": "markdown",
   "metadata": {},
   "source": [
    "Create local system _libref_ `loc` to write data sets."
   ]
  },
  {
   "cell_type": "code",
   "execution_count": null,
   "metadata": {},
   "outputs": [],
   "source": [
    "options dlcreatedir;\n",
    "\n",
    "libname loc  'test_data';"
   ]
  },
  {
   "cell_type": "markdown",
   "metadata": {},
   "source": [
    "Create a new data set and in the `loc`  libref and print it:"
   ]
  },
  {
   "cell_type": "code",
   "execution_count": null,
   "metadata": {},
   "outputs": [],
   "source": [
    "data loc.data_one;\n",
    "input a$ b;\n",
    "datalines;\n",
    "a1 100\n",
    "a2 300\n",
    ";\n",
    "\n",
    "proc contents data=loc._all_ ;\n",
    "run;\n",
    "\n",
    "proc print data=loc.data_one;\n",
    "run;\n",
    "\n"
   ]
  },
  {
   "cell_type": "markdown",
   "metadata": {},
   "source": [
    "Create a `locsas` libref to write out SAS7DAT file if needed"
   ]
  },
  {
   "cell_type": "code",
   "execution_count": null,
   "metadata": {},
   "outputs": [],
   "source": [
    "libname locsas v9 'sas7bdat_data';\n",
    "\n",
    "data locsas.data_one; set loc.data_one; run;\n",
    "\n",
    "x 'ls -l sas7bdat_data';"
   ]
  },
  {
   "cell_type": "markdown",
   "metadata": {},
   "source": [
    "\n",
    "# Processing Data"
   ]
  },
  {
   "cell_type": "code",
   "execution_count": null,
   "metadata": {},
   "outputs": [],
   "source": [
    "\n",
    "data data_two;\n",
    "  set loc.data_one;\n",
    "  x = 2*b;\n",
    "  i = _n_;\n",
    "run;\n",
    "\n",
    "proc sql;\n",
    "   create table data_three as select x, t1.a, i\n",
    "   from loc.data_one t1, data_two t2\n",
    "   where t1.a=t2.a ;\n",
    "quit ;\n",
    "\n",
    "proc means data=data_three ;\n",
    "run;\n",
    "\n"
   ]
  }
 ],
 "metadata": {
  "kernelspec": {
   "display_name": "Carolina",
   "language": "sas",
   "name": "carolina"
  },
  "language_info": {
   "codemirror_mode": "sas",
   "file_extension": ".sas",
   "mimetype": "text/x-sas",
   "name": "sas"
  }
 },
 "nbformat": 4,
 "nbformat_minor": 4
}

